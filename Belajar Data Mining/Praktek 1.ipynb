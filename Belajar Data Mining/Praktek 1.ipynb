{
 "cells": [
  {
   "cell_type": "code",
   "execution_count": 1,
   "id": "019809f2",
   "metadata": {},
   "outputs": [
    {
     "name": "stdout",
     "output_type": "stream",
     "text": [
      "Requirement already satisfied: kaggle in c:\\users\\asus\\.conda\\envs\\matkuldatamining\\lib\\site-packages (1.5.13)\n",
      "Requirement already satisfied: tqdm in c:\\users\\asus\\.conda\\envs\\matkuldatamining\\lib\\site-packages (from kaggle) (4.65.0)\n",
      "Requirement already satisfied: six>=1.10 in c:\\users\\asus\\.conda\\envs\\matkuldatamining\\lib\\site-packages (from kaggle) (1.16.0)\n",
      "Requirement already satisfied: python-dateutil in c:\\users\\asus\\.conda\\envs\\matkuldatamining\\lib\\site-packages (from kaggle) (2.8.2)\n",
      "Requirement already satisfied: certifi in c:\\users\\asus\\.conda\\envs\\matkuldatamining\\lib\\site-packages (from kaggle) (2022.12.7)\n",
      "Requirement already satisfied: requests in c:\\users\\asus\\.conda\\envs\\matkuldatamining\\lib\\site-packages (from kaggle) (2.28.2)\n",
      "Requirement already satisfied: urllib3 in c:\\users\\asus\\.conda\\envs\\matkuldatamining\\lib\\site-packages (from kaggle) (1.26.14)\n",
      "Requirement already satisfied: python-slugify in c:\\users\\asus\\.conda\\envs\\matkuldatamining\\lib\\site-packages (from kaggle) (8.0.1)\n",
      "Requirement already satisfied: text-unidecode>=1.3 in c:\\users\\asus\\.conda\\envs\\matkuldatamining\\lib\\site-packages (from python-slugify->kaggle) (1.3)\n",
      "Requirement already satisfied: charset-normalizer<4,>=2 in c:\\users\\asus\\.conda\\envs\\matkuldatamining\\lib\\site-packages (from requests->kaggle) (3.1.0)\n",
      "Requirement already satisfied: idna<4,>=2.5 in c:\\users\\asus\\.conda\\envs\\matkuldatamining\\lib\\site-packages (from requests->kaggle) (3.4)\n",
      "Requirement already satisfied: colorama in c:\\users\\asus\\.conda\\envs\\matkuldatamining\\lib\\site-packages (from tqdm->kaggle) (0.4.6)\n"
     ]
    }
   ],
   "source": [
    "!pip install kaggle"
   ]
  },
  {
   "cell_type": "code",
   "execution_count": 2,
   "id": "7a13408f",
   "metadata": {},
   "outputs": [
    {
     "name": "stderr",
     "output_type": "stream",
     "text": [
      "Traceback (most recent call last):\n",
      "  File \"C:\\Users\\ASUS\\.conda\\envs\\MatkulDataMining\\lib\\runpy.py\", line 197, in _run_module_as_main\n",
      "    return _run_code(code, main_globals, None,\n",
      "  File \"C:\\Users\\ASUS\\.conda\\envs\\MatkulDataMining\\lib\\runpy.py\", line 87, in _run_code\n",
      "    exec(code, run_globals)\n",
      "  File \"C:\\Users\\ASUS\\.conda\\envs\\MatkulDataMining\\Scripts\\kaggle.exe\\__main__.py\", line 4, in <module>\n",
      "  File \"C:\\Users\\ASUS\\.conda\\envs\\MatkulDataMining\\lib\\site-packages\\kaggle\\__init__.py\", line 23, in <module>\n",
      "    api.authenticate()\n",
      "  File \"C:\\Users\\ASUS\\.conda\\envs\\MatkulDataMining\\lib\\site-packages\\kaggle\\api\\kaggle_api_extended.py\", line 164, in authenticate\n",
      "    raise IOError('Could not find {}. Make sure it\\'s located in'\n",
      "OSError: Could not find kaggle.json. Make sure it's located in C:\\Users\\ASUS\\.kaggle. Or use the environment method.\n"
     ]
    }
   ],
   "source": [
    "!kaggle datasets download -d {Diva_Putra_Almeyda}/{Iris_Flower_Dataset}"
   ]
  },
  {
   "cell_type": "code",
   "execution_count": 3,
   "id": "7ec025a7",
   "metadata": {},
   "outputs": [
    {
     "name": "stdout",
     "output_type": "stream",
     "text": [
      "403 - Forbidden\n"
     ]
    }
   ],
   "source": [
    "!kaggle datasets download -d {Diva_Putra_Almeyda}/{Iris_Flower_Dataset}"
   ]
  },
  {
   "cell_type": "code",
   "execution_count": 4,
   "id": "e456c7a9",
   "metadata": {},
   "outputs": [
    {
     "name": "stdout",
     "output_type": "stream",
     "text": [
      "ref                                                      title                                             size  lastUpdated          downloadCount  voteCount  usabilityRating  \n",
      "-------------------------------------------------------  -----------------------------------------------  -----  -------------------  -------------  ---------  ---------------  \n",
      "slehkyi/extended-football-stats-for-european-leagues-xg  Football Data: Expected Goals and Other Metrics    1MB  2020-08-02 17:28:39           5456        145  1.0              \n",
      "vivovinco/nba-player-stats                               2021-2022 NBA Player Stats                        48KB  2022-06-18 07:52:52           5543        114  1.0              \n",
      "sanjeetsinghnaik/most-expensive-footballers-2021         Most Expensive Footballers 2021                   13KB  2021-12-03 20:28:03           1783         46  1.0              \n",
      "shreyanshkhandelwal/goal-dataset-top-5-european-leagues  Goal Dataset - Top 5 European Leagues            174KB  2021-05-23 21:20:09           3533         20  0.5294118        \n",
      "secareanualin/football-events                            Football Events                                   21MB  2017-01-25 01:19:19          25043        615  0.7647059        \n",
      "vivovinco/20222023-nba-player-stats-regular              2022-2023 NBA Player Stats                        27KB  2023-02-13 19:31:39           1518         46  1.0              \n",
      "vivovinco/20212022-football-team-stats                   2021-2022 Football Team Stats                      6KB  2022-05-29 07:48:12           1347         64  1.0              \n",
      "vivovinco/20212022-football-player-stats                 2021-2022 Football Player Stats                  627KB  2022-05-29 12:13:07           3067         94  1.0              \n",
      "yamaerenay/most-popular-soccer-leagues                   Most Popular Soccer Leagues                       30KB  2020-08-01 16:59:30            197          6  1.0              \n",
      "vivovinco/20222023-football-player-stats                 2022-2023 Football Player Stats                  470KB  2023-02-12 17:01:33           1467         51  1.0              \n",
      "chaibapat/fantasy-premier-league                         Fantasy Premier League - 2016/2017               476MB  2017-05-16 18:56:26           1536         32  0.85294116       \n",
      "sanjeetsinghnaik/premier-league-matches-20142020         Premier League Matches 2014-2020                 227KB  2021-12-21 19:08:15            390         22  0.9117647        \n",
      "sanjeetsinghnaik/la-liga-match-data                      La Liga Match Data                               226KB  2022-01-02 18:21:11            408         21  0.9117647        \n",
      "eladsil/football-games-odds                              Football Matches Odds                              5MB  2018-10-15 08:15:14            828         24  0.8235294        \n",
      "andrew1456/202122-nba-season-per-game-stats              2021-22 NBA Season Per Game Stats                 29KB  2022-09-01 15:34:59            111         11  0.9411765        \n",
      "vivovinco/20222023-football-team-stats                   2022-2023 Football Team Stats                      6KB  2023-02-12 15:28:51            400         22  1.0              \n",
      "jashsheth5/indepth-soccer-statistics-xg-xa-and-more      In-depth soccer statistics: xG, xA and more        1MB  2020-09-26 05:36:58            363          9  0.9411765        \n",
      "mcarujo/european-football-season-202223                  European Football Season 2022/23                 668KB  2023-03-08 18:23:44            571         25  0.7647059        \n",
      "tanisha1416/big-5-european-leagues-20212022              Football League Dataset (2021-2022)                6KB  2022-03-26 16:31:21            331          8  0.9411765        \n",
      "thomasjohnmahler/nba-player-season-stats                 NBA Player Season Stats                            1MB  2022-05-16 22:59:23            232         10  0.7058824        \n"
     ]
    }
   ],
   "source": [
    "!kaggle datasets list -s \"goal leagues\""
   ]
  },
  {
   "cell_type": "code",
   "execution_count": 5,
   "id": "ce9478f4",
   "metadata": {},
   "outputs": [
    {
     "name": "stdout",
     "output_type": "stream",
     "text": [
      "Downloading goal-dataset-top-5-european-leagues.zip to C:\\Users\\ASUS\\Latihan Python\n",
      "\n"
     ]
    },
    {
     "name": "stderr",
     "output_type": "stream",
     "text": [
      "\n",
      "  0%|          | 0.00/174k [00:00<?, ?B/s]\n",
      "100%|##########| 174k/174k [00:00<00:00, 285kB/s]\n",
      "100%|##########| 174k/174k [00:00<00:00, 285kB/s]\n"
     ]
    }
   ],
   "source": [
    "!kaggle datasets download -d shreyanshkhandelwal/goal-dataset-top-5-european-leagues\n"
   ]
  },
  {
   "cell_type": "code",
   "execution_count": 6,
   "id": "a8c87c2e",
   "metadata": {},
   "outputs": [],
   "source": [
    "import glob\n",
    "import zipfile"
   ]
  },
  {
   "cell_type": "code",
   "execution_count": 8,
   "id": "1362abea",
   "metadata": {},
   "outputs": [
    {
     "name": "stdout",
     "output_type": "stream",
     "text": [
      "unzipping: goal-dataset-top-5-european-leagues.zip\n"
     ]
    }
   ],
   "source": [
    "files = glob.glob(\"*.zip\")\n",
    "for file in files:\n",
    "    print('unzipping:', file)\n",
    "    with zipfile.ZipFile(file, 'r') as zip_ref:\n",
    "        zip_ref.extractall(\"raw\")"
   ]
  },
  {
   "cell_type": "code",
   "execution_count": 28,
   "id": "b1c24319",
   "metadata": {},
   "outputs": [
    {
     "name": "stdout",
     "output_type": "stream",
     "text": [
      "Requirement already satisfied: pandas in c:\\users\\asus\\.conda\\envs\\matkuldatamining\\lib\\site-packages (1.5.3)\n",
      "Requirement already satisfied: python-dateutil>=2.8.1 in c:\\users\\asus\\.conda\\envs\\matkuldatamining\\lib\\site-packages (from pandas) (2.8.2)\n",
      "Requirement already satisfied: pytz>=2020.1 in c:\\users\\asus\\.conda\\envs\\matkuldatamining\\lib\\site-packages (from pandas) (2022.7.1)\n",
      "Requirement already satisfied: numpy>=1.20.3 in c:\\users\\asus\\.conda\\envs\\matkuldatamining\\lib\\site-packages (from pandas) (1.24.2)\n",
      "Requirement already satisfied: six>=1.5 in c:\\users\\asus\\.conda\\envs\\matkuldatamining\\lib\\site-packages (from python-dateutil>=2.8.1->pandas) (1.16.0)\n"
     ]
    }
   ],
   "source": [
    "!pip install pandas"
   ]
  },
  {
   "cell_type": "code",
   "execution_count": 29,
   "id": "60adda3d",
   "metadata": {},
   "outputs": [
    {
     "name": "stdout",
     "output_type": "stream",
     "text": [
      "Requirement already satisfied: numpy in c:\\users\\asus\\.conda\\envs\\matkuldatamining\\lib\\site-packages (1.24.2)\n"
     ]
    }
   ],
   "source": [
    "!pip install numpy"
   ]
  },
  {
   "cell_type": "code",
   "execution_count": 30,
   "id": "9e1a92e5",
   "metadata": {},
   "outputs": [],
   "source": [
    "import numpy as np\n",
    "import pandas as pd"
   ]
  },
  {
   "cell_type": "code",
   "execution_count": 31,
   "id": "60614a29",
   "metadata": {},
   "outputs": [],
   "source": [
    "df = pd.read_csv(\"epl-goalScorer(20-21).csv\")"
   ]
  },
  {
   "cell_type": "code",
   "execution_count": 33,
   "id": "4b5f0033",
   "metadata": {
    "collapsed": true
   },
   "outputs": [
    {
     "data": {
      "text/html": [
       "<div>\n",
       "<style scoped>\n",
       "    .dataframe tbody tr th:only-of-type {\n",
       "        vertical-align: middle;\n",
       "    }\n",
       "\n",
       "    .dataframe tbody tr th {\n",
       "        vertical-align: top;\n",
       "    }\n",
       "\n",
       "    .dataframe thead th {\n",
       "        text-align: right;\n",
       "    }\n",
       "</style>\n",
       "<table border=\"1\" class=\"dataframe\">\n",
       "  <thead>\n",
       "    <tr style=\"text-align: right;\">\n",
       "      <th></th>\n",
       "      <th>Unnamed: 0</th>\n",
       "      <th>id</th>\n",
       "      <th>player_name</th>\n",
       "      <th>games</th>\n",
       "      <th>time</th>\n",
       "      <th>goals</th>\n",
       "      <th>xG</th>\n",
       "      <th>assists</th>\n",
       "      <th>xA</th>\n",
       "      <th>shots</th>\n",
       "      <th>key_passes</th>\n",
       "      <th>yellow_cards</th>\n",
       "      <th>red_cards</th>\n",
       "      <th>position</th>\n",
       "      <th>team_title</th>\n",
       "      <th>npg</th>\n",
       "      <th>npxG</th>\n",
       "      <th>xGChain</th>\n",
       "      <th>xGBuildup</th>\n",
       "    </tr>\n",
       "  </thead>\n",
       "  <tbody>\n",
       "    <tr>\n",
       "      <th>0</th>\n",
       "      <td>0</td>\n",
       "      <td>647</td>\n",
       "      <td>Harry Kane</td>\n",
       "      <td>35</td>\n",
       "      <td>3097</td>\n",
       "      <td>23</td>\n",
       "      <td>22.174859</td>\n",
       "      <td>14</td>\n",
       "      <td>7.577094</td>\n",
       "      <td>138</td>\n",
       "      <td>49</td>\n",
       "      <td>1</td>\n",
       "      <td>0</td>\n",
       "      <td>F</td>\n",
       "      <td>Tottenham</td>\n",
       "      <td>19</td>\n",
       "      <td>19.130183</td>\n",
       "      <td>24.995648</td>\n",
       "      <td>4.451257</td>\n",
       "    </tr>\n",
       "    <tr>\n",
       "      <th>1</th>\n",
       "      <td>1</td>\n",
       "      <td>1250</td>\n",
       "      <td>Mohamed Salah</td>\n",
       "      <td>37</td>\n",
       "      <td>3085</td>\n",
       "      <td>22</td>\n",
       "      <td>20.250847</td>\n",
       "      <td>5</td>\n",
       "      <td>6.528526</td>\n",
       "      <td>126</td>\n",
       "      <td>55</td>\n",
       "      <td>0</td>\n",
       "      <td>0</td>\n",
       "      <td>F M S</td>\n",
       "      <td>Liverpool</td>\n",
       "      <td>16</td>\n",
       "      <td>15.683834</td>\n",
       "      <td>28.968234</td>\n",
       "      <td>9.800236</td>\n",
       "    </tr>\n",
       "    <tr>\n",
       "      <th>2</th>\n",
       "      <td>2</td>\n",
       "      <td>1228</td>\n",
       "      <td>Bruno Fernandes</td>\n",
       "      <td>37</td>\n",
       "      <td>3117</td>\n",
       "      <td>18</td>\n",
       "      <td>16.019454</td>\n",
       "      <td>12</td>\n",
       "      <td>11.474996</td>\n",
       "      <td>121</td>\n",
       "      <td>95</td>\n",
       "      <td>6</td>\n",
       "      <td>0</td>\n",
       "      <td>M S</td>\n",
       "      <td>Manchester United</td>\n",
       "      <td>9</td>\n",
       "      <td>8.407840</td>\n",
       "      <td>26.911412</td>\n",
       "      <td>11.932285</td>\n",
       "    </tr>\n",
       "    <tr>\n",
       "      <th>3</th>\n",
       "      <td>3</td>\n",
       "      <td>453</td>\n",
       "      <td>Son Heung-Min</td>\n",
       "      <td>37</td>\n",
       "      <td>3139</td>\n",
       "      <td>17</td>\n",
       "      <td>11.023287</td>\n",
       "      <td>10</td>\n",
       "      <td>9.512992</td>\n",
       "      <td>68</td>\n",
       "      <td>75</td>\n",
       "      <td>0</td>\n",
       "      <td>0</td>\n",
       "      <td>F M S</td>\n",
       "      <td>Tottenham</td>\n",
       "      <td>16</td>\n",
       "      <td>10.262118</td>\n",
       "      <td>20.671916</td>\n",
       "      <td>6.608751</td>\n",
       "    </tr>\n",
       "    <tr>\n",
       "      <th>4</th>\n",
       "      <td>4</td>\n",
       "      <td>822</td>\n",
       "      <td>Patrick Bamford</td>\n",
       "      <td>38</td>\n",
       "      <td>3085</td>\n",
       "      <td>17</td>\n",
       "      <td>18.401863</td>\n",
       "      <td>7</td>\n",
       "      <td>3.782247</td>\n",
       "      <td>107</td>\n",
       "      <td>30</td>\n",
       "      <td>3</td>\n",
       "      <td>0</td>\n",
       "      <td>F S</td>\n",
       "      <td>Leeds</td>\n",
       "      <td>15</td>\n",
       "      <td>16.879525</td>\n",
       "      <td>23.394953</td>\n",
       "      <td>4.131796</td>\n",
       "    </tr>\n",
       "  </tbody>\n",
       "</table>\n",
       "</div>"
      ],
      "text/plain": [
       "   Unnamed: 0    id      player_name  games  time  goals         xG  assists  \\\n",
       "0           0   647       Harry Kane     35  3097     23  22.174859       14   \n",
       "1           1  1250    Mohamed Salah     37  3085     22  20.250847        5   \n",
       "2           2  1228  Bruno Fernandes     37  3117     18  16.019454       12   \n",
       "3           3   453    Son Heung-Min     37  3139     17  11.023287       10   \n",
       "4           4   822  Patrick Bamford     38  3085     17  18.401863        7   \n",
       "\n",
       "          xA  shots  key_passes  yellow_cards  red_cards position  \\\n",
       "0   7.577094    138          49             1          0        F   \n",
       "1   6.528526    126          55             0          0    F M S   \n",
       "2  11.474996    121          95             6          0      M S   \n",
       "3   9.512992     68          75             0          0    F M S   \n",
       "4   3.782247    107          30             3          0      F S   \n",
       "\n",
       "          team_title  npg       npxG    xGChain  xGBuildup  \n",
       "0          Tottenham   19  19.130183  24.995648   4.451257  \n",
       "1          Liverpool   16  15.683834  28.968234   9.800236  \n",
       "2  Manchester United    9   8.407840  26.911412  11.932285  \n",
       "3          Tottenham   16  10.262118  20.671916   6.608751  \n",
       "4              Leeds   15  16.879525  23.394953   4.131796  "
      ]
     },
     "execution_count": 33,
     "metadata": {},
     "output_type": "execute_result"
    }
   ],
   "source": [
    "df.head()"
   ]
  },
  {
   "cell_type": "code",
   "execution_count": null,
   "id": "e102a945",
   "metadata": {},
   "outputs": [],
   "source": []
  }
 ],
 "metadata": {
  "kernelspec": {
   "display_name": "Python 3 (ipykernel)",
   "language": "python",
   "name": "python3"
  },
  "language_info": {
   "codemirror_mode": {
    "name": "ipython",
    "version": 3
   },
   "file_extension": ".py",
   "mimetype": "text/x-python",
   "name": "python",
   "nbconvert_exporter": "python",
   "pygments_lexer": "ipython3",
   "version": "3.9.16"
  }
 },
 "nbformat": 4,
 "nbformat_minor": 5
}
